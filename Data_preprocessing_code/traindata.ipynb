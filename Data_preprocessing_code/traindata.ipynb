{
 "cells": [
  {
   "cell_type": "code",
   "execution_count": 2,
   "metadata": {},
   "outputs": [],
   "source": [
    "import numpy as np\n",
    "import pandas as pd\n",
    "import matplotlib.pyplot as plt\n",
    "from datetime import datetime"
   ]
  },
  {
   "cell_type": "code",
   "execution_count": 5,
   "metadata": {},
   "outputs": [],
   "source": [
    "df = pd.read_csv(\"E:/BDT/5001/Kaggle/raw_data/train.csv\")"
   ]
  },
  {
   "cell_type": "code",
   "execution_count": 6,
   "metadata": {},
   "outputs": [
    {
     "data": {
      "text/plain": [
       "(357, 11)"
      ]
     },
     "execution_count": 6,
     "metadata": {},
     "output_type": "execute_result"
    }
   ],
   "source": [
    "df.shape"
   ]
  },
  {
   "cell_type": "code",
   "execution_count": 7,
   "metadata": {},
   "outputs": [],
   "source": [
    "#将bool类型的全部转化为0和1\n",
    "df['is_free']=df['is_free'].astype('int')"
   ]
  },
  {
   "cell_type": "code",
   "execution_count": 8,
   "metadata": {},
   "outputs": [
    {
     "data": {
      "text/plain": [
       "id                        0\n",
       "playtime_forever          0\n",
       "is_free                   0\n",
       "price                     0\n",
       "genres                    0\n",
       "categories                0\n",
       "tags                      0\n",
       "purchase_date             2\n",
       "release_date              0\n",
       "total_positive_reviews    2\n",
       "total_negative_reviews    2\n",
       "dtype: int64"
      ]
     },
     "execution_count": 8,
     "metadata": {},
     "output_type": "execute_result"
    }
   ],
   "source": [
    "df.isnull().sum(axis=0)"
   ]
  },
  {
   "cell_type": "code",
   "execution_count": 9,
   "metadata": {},
   "outputs": [],
   "source": [
    "#修改成日期格式 并用现在的时间填补空缺行\n",
    "df['purchase_date'] = pd.to_datetime(df['purchase_date'])\n",
    "df['release_date'] = pd.to_datetime(df['release_date'])\n",
    "df['purchase_date'].fillna(datetime.now(),inplace = True)"
   ]
  },
  {
   "cell_type": "code",
   "execution_count": 10,
   "metadata": {},
   "outputs": [],
   "source": [
    "#将购买日期拆分成年份与月份 并将之设置为新的两列\n",
    "def extract_date(df,purchase_date):\n",
    "    df['purchase_date' + \"_year\"] = df['purchase_date'].apply(lambda x: x.year)\n",
    "    df[\"purchase_date\" + \"_month\"] = df[\"purchase_date\"].apply(lambda x: x.month)\n",
    "extract_date(df,\"purchase_date\")                                     "
   ]
  },
  {
   "cell_type": "code",
   "execution_count": 11,
   "metadata": {},
   "outputs": [],
   "source": [
    "#添加新的两列 分别为 1、购买游戏到迄今为止的时间    2、游戏发行到游戏购买之间的时间\n",
    "duration = datetime.now()-df['purchase_date']\n",
    "df['duration'] = duration\n",
    "df['duration'] = df['duration'].dt.days \n",
    "df['duration_to_release'] = df['purchase_date']-df['release_date']\n",
    "df['duration_to_release'] = df['duration_to_release'].dt.days"
   ]
  },
  {
   "cell_type": "code",
   "execution_count": 13,
   "metadata": {},
   "outputs": [],
   "source": [
    "#填补reviews的空缺 用均值填补\n",
    "df = df.fillna(value = {\"total_positive_reviews\":df[\"total_positive_reviews\"].mean(),\n",
    "                        \"total_negative_reviews\":df[\"total_negative_reviews\"].mean()})"
   ]
  },
  {
   "cell_type": "code",
   "execution_count": 14,
   "metadata": {},
   "outputs": [],
   "source": [
    "#添加新的一列——好评率，有些游戏好评差评均为0个，因此用0填补空缺的好评率\n",
    "df['total_reviews'] = df['total_positive_reviews']+df['total_negative_reviews']\n",
    "df['positive_reviews_percent'] = df['total_positive_reviews']/df['total_reviews']\n",
    "df['positive_reviews_percent'].fillna(0,inplace = True)"
   ]
  },
  {
   "cell_type": "code",
   "execution_count": 15,
   "metadata": {},
   "outputs": [
    {
     "data": {
      "text/plain": [
       "id                          0\n",
       "playtime_forever            0\n",
       "is_free                     0\n",
       "price                       0\n",
       "genres                      0\n",
       "categories                  0\n",
       "tags                        0\n",
       "purchase_date               0\n",
       "release_date                0\n",
       "total_positive_reviews      0\n",
       "total_negative_reviews      0\n",
       "purchase_date_year          0\n",
       "purchase_date_month         0\n",
       "duration                    0\n",
       "duration_to_release         0\n",
       "total_reviews               0\n",
       "positive_reviews_percent    0\n",
       "dtype: int64"
      ]
     },
     "execution_count": 15,
     "metadata": {},
     "output_type": "execute_result"
    }
   ],
   "source": [
    "df.isnull().sum(axis=0)"
   ]
  },
  {
   "cell_type": "code",
   "execution_count": 17,
   "metadata": {},
   "outputs": [],
   "source": [
    "#将以下各列的数值控制在同一阈值内，将之做标准化处理\n",
    "df[\"price\"] = df[['price']].apply(lambda x: (x-np.mean(x))/(np.std(x)))\n",
    "df[\"total_reviews\"] = df[['total_reviews']].apply(lambda x: (x-np.mean(x))/(np.std(x)))\n",
    "df[\"positive_reviews_percent\"] = df[['positive_reviews_percent']].apply(lambda x: (x-np.mean(x))/(np.std(x)))\n",
    "df[\"purchase_date_year\"] = df[['purchase_date_year']].apply(lambda x: (x-np.mean(x))/(np.std(x)))\n",
    "df[\"purchase_date_month\"] = df[['purchase_date_month']].apply(lambda x: (x-np.mean(x))/(np.std(x)))\n",
    "df[\"duration\"] = df[['duration']].apply(lambda x: (x-np.mean(x))/(np.std(x)))\n",
    "df[\"duration_to_release\"] = df[['duration_to_release']].apply(lambda x: (x-np.mean(x))/(np.std(x)))"
   ]
  },
  {
   "cell_type": "code",
   "execution_count": 18,
   "metadata": {},
   "outputs": [],
   "source": [
    "# 对于object类型的数据全部进行onehot编码\n",
    "df_new1 = (df.iloc[:,4]).str.get_dummies(sep=',')\n",
    "df = pd.concat((df,df_new1),axis=1)\n",
    "df_new2 = (df.iloc[:,5]).str.get_dummies(sep=',')\n",
    "df = pd.concat((df,df_new2),axis=1)\n",
    "df_new3 = (df.iloc[:,6]).str.get_dummies(sep=',')\n",
    "df = pd.concat((df,df_new3),axis=1)"
   ]
  },
  {
   "cell_type": "code",
   "execution_count": 19,
   "metadata": {},
   "outputs": [],
   "source": [
    "df.drop([\"genres\",\"categories\",\"tags\",\"total_positive_reviews\",\"total_negative_reviews\",\"purchase_date\",\"release_date\"],axis=1,inplace=True)"
   ]
  },
  {
   "cell_type": "code",
   "execution_count": 20,
   "metadata": {},
   "outputs": [
    {
     "data": {
      "text/plain": [
       "(357, 371)"
      ]
     },
     "execution_count": 20,
     "metadata": {},
     "output_type": "execute_result"
    }
   ],
   "source": [
    "df.shape"
   ]
  },
  {
   "cell_type": "code",
   "execution_count": 23,
   "metadata": {},
   "outputs": [],
   "source": [
    "df.to_csv(\"E:/BDT/5001/Kaggle/train_set.csv\",index = False)"
   ]
  },
  {
   "cell_type": "code",
   "execution_count": null,
   "metadata": {},
   "outputs": [],
   "source": []
  },
  {
   "cell_type": "code",
   "execution_count": null,
   "metadata": {},
   "outputs": [],
   "source": []
  },
  {
   "cell_type": "code",
   "execution_count": 18,
   "metadata": {},
   "outputs": [],
   "source": []
  },
  {
   "cell_type": "code",
   "execution_count": null,
   "metadata": {},
   "outputs": [],
   "source": []
  },
  {
   "cell_type": "code",
   "execution_count": null,
   "metadata": {},
   "outputs": [],
   "source": []
  },
  {
   "cell_type": "code",
   "execution_count": null,
   "metadata": {},
   "outputs": [],
   "source": []
  },
  {
   "cell_type": "code",
   "execution_count": 23,
   "metadata": {},
   "outputs": [],
   "source": []
  },
  {
   "cell_type": "code",
   "execution_count": null,
   "metadata": {},
   "outputs": [],
   "source": []
  },
  {
   "cell_type": "code",
   "execution_count": null,
   "metadata": {},
   "outputs": [],
   "source": []
  }
 ],
 "metadata": {
  "kernelspec": {
   "display_name": "Python 3",
   "language": "python",
   "name": "python3"
  },
  "language_info": {
   "codemirror_mode": {
    "name": "ipython",
    "version": 3
   },
   "file_extension": ".py",
   "mimetype": "text/x-python",
   "name": "python",
   "nbconvert_exporter": "python",
   "pygments_lexer": "ipython3",
   "version": "3.7.5"
  }
 },
 "nbformat": 4,
 "nbformat_minor": 2
}
