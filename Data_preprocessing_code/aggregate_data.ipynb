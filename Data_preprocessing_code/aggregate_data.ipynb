{
 "cells": [
  {
   "cell_type": "code",
   "execution_count": 1,
   "metadata": {},
   "outputs": [],
   "source": [
    "import numpy as np\n",
    "import pandas as pd\n",
    "import matplotlib.pyplot as plt"
   ]
  },
  {
   "cell_type": "code",
   "execution_count": 2,
   "metadata": {},
   "outputs": [],
   "source": [
    "df_train = pd.read_csv(\"E:/BDT/5001/Kaggle/train_set.csv\")\n",
    "df_test = pd.read_csv(\"E:/BDT/5001/Kaggle/test_set.csv\")"
   ]
  },
  {
   "cell_type": "code",
   "execution_count": 3,
   "metadata": {},
   "outputs": [],
   "source": [
    "df = pd.concat([df_train,df_test],sort = False)"
   ]
  },
  {
   "cell_type": "code",
   "execution_count": 4,
   "metadata": {},
   "outputs": [
    {
     "data": {
      "text/plain": [
       "(447, 376)"
      ]
     },
     "execution_count": 4,
     "metadata": {},
     "output_type": "execute_result"
    }
   ],
   "source": [
    "df.shape"
   ]
  },
  {
   "cell_type": "code",
   "execution_count": 5,
   "metadata": {},
   "outputs": [
    {
     "data": {
      "text/html": [
       "<div>\n",
       "<style scoped>\n",
       "    .dataframe tbody tr th:only-of-type {\n",
       "        vertical-align: middle;\n",
       "    }\n",
       "\n",
       "    .dataframe tbody tr th {\n",
       "        vertical-align: top;\n",
       "    }\n",
       "\n",
       "    .dataframe thead th {\n",
       "        text-align: right;\n",
       "    }\n",
       "</style>\n",
       "<table border=\"1\" class=\"dataframe\">\n",
       "  <thead>\n",
       "    <tr style=\"text-align: right;\">\n",
       "      <th></th>\n",
       "      <th>id</th>\n",
       "      <th>playtime_forever</th>\n",
       "      <th>is_free</th>\n",
       "      <th>price</th>\n",
       "      <th>purchase_date_year</th>\n",
       "      <th>purchase_date_month</th>\n",
       "      <th>duration</th>\n",
       "      <th>duration_to_release</th>\n",
       "      <th>total_reviews</th>\n",
       "      <th>positive_reviews_percent</th>\n",
       "      <th>...</th>\n",
       "      <th>Western</th>\n",
       "      <th>World War I</th>\n",
       "      <th>World War II</th>\n",
       "      <th>Zombies</th>\n",
       "      <th>eSports</th>\n",
       "      <th>Cold War</th>\n",
       "      <th>GameMaker</th>\n",
       "      <th>Lore-Rich</th>\n",
       "      <th>Modern</th>\n",
       "      <th>On-Rails Shooter</th>\n",
       "    </tr>\n",
       "  </thead>\n",
       "  <tbody>\n",
       "    <tr>\n",
       "      <td>0</td>\n",
       "      <td>0</td>\n",
       "      <td>0.000000</td>\n",
       "      <td>0</td>\n",
       "      <td>-0.073279</td>\n",
       "      <td>0.329754</td>\n",
       "      <td>0.081704</td>\n",
       "      <td>-0.340029</td>\n",
       "      <td>0.714586</td>\n",
       "      <td>-0.287531</td>\n",
       "      <td>-0.270005</td>\n",
       "      <td>...</td>\n",
       "      <td>0</td>\n",
       "      <td>0</td>\n",
       "      <td>0</td>\n",
       "      <td>0</td>\n",
       "      <td>0</td>\n",
       "      <td>NaN</td>\n",
       "      <td>NaN</td>\n",
       "      <td>NaN</td>\n",
       "      <td>NaN</td>\n",
       "      <td>NaN</td>\n",
       "    </tr>\n",
       "    <tr>\n",
       "      <td>1</td>\n",
       "      <td>1</td>\n",
       "      <td>0.016667</td>\n",
       "      <td>1</td>\n",
       "      <td>-0.077293</td>\n",
       "      <td>-1.870661</td>\n",
       "      <td>1.236887</td>\n",
       "      <td>1.607802</td>\n",
       "      <td>-0.587260</td>\n",
       "      <td>-0.294547</td>\n",
       "      <td>1.085405</td>\n",
       "      <td>...</td>\n",
       "      <td>0</td>\n",
       "      <td>0</td>\n",
       "      <td>0</td>\n",
       "      <td>0</td>\n",
       "      <td>0</td>\n",
       "      <td>NaN</td>\n",
       "      <td>NaN</td>\n",
       "      <td>NaN</td>\n",
       "      <td>NaN</td>\n",
       "      <td>NaN</td>\n",
       "    </tr>\n",
       "    <tr>\n",
       "      <td>2</td>\n",
       "      <td>2</td>\n",
       "      <td>0.000000</td>\n",
       "      <td>0</td>\n",
       "      <td>-0.071868</td>\n",
       "      <td>0.329754</td>\n",
       "      <td>0.081704</td>\n",
       "      <td>-0.340029</td>\n",
       "      <td>0.661115</td>\n",
       "      <td>-0.236874</td>\n",
       "      <td>-0.104721</td>\n",
       "      <td>...</td>\n",
       "      <td>0</td>\n",
       "      <td>0</td>\n",
       "      <td>0</td>\n",
       "      <td>0</td>\n",
       "      <td>0</td>\n",
       "      <td>NaN</td>\n",
       "      <td>NaN</td>\n",
       "      <td>NaN</td>\n",
       "      <td>NaN</td>\n",
       "      <td>NaN</td>\n",
       "    </tr>\n",
       "    <tr>\n",
       "      <td>3</td>\n",
       "      <td>3</td>\n",
       "      <td>1.533333</td>\n",
       "      <td>0</td>\n",
       "      <td>-0.066551</td>\n",
       "      <td>-1.870661</td>\n",
       "      <td>1.236887</td>\n",
       "      <td>1.601120</td>\n",
       "      <td>1.553747</td>\n",
       "      <td>0.727123</td>\n",
       "      <td>0.907432</td>\n",
       "      <td>...</td>\n",
       "      <td>0</td>\n",
       "      <td>0</td>\n",
       "      <td>0</td>\n",
       "      <td>0</td>\n",
       "      <td>0</td>\n",
       "      <td>NaN</td>\n",
       "      <td>NaN</td>\n",
       "      <td>NaN</td>\n",
       "      <td>NaN</td>\n",
       "      <td>NaN</td>\n",
       "    </tr>\n",
       "    <tr>\n",
       "      <td>4</td>\n",
       "      <td>4</td>\n",
       "      <td>22.333333</td>\n",
       "      <td>0</td>\n",
       "      <td>-0.072085</td>\n",
       "      <td>0.329754</td>\n",
       "      <td>-1.073478</td>\n",
       "      <td>0.060897</td>\n",
       "      <td>1.127073</td>\n",
       "      <td>-0.147274</td>\n",
       "      <td>0.716355</td>\n",
       "      <td>...</td>\n",
       "      <td>0</td>\n",
       "      <td>0</td>\n",
       "      <td>0</td>\n",
       "      <td>0</td>\n",
       "      <td>0</td>\n",
       "      <td>NaN</td>\n",
       "      <td>NaN</td>\n",
       "      <td>NaN</td>\n",
       "      <td>NaN</td>\n",
       "      <td>NaN</td>\n",
       "    </tr>\n",
       "  </tbody>\n",
       "</table>\n",
       "<p>5 rows × 376 columns</p>\n",
       "</div>"
      ],
      "text/plain": [
       "   id  playtime_forever  is_free     price  purchase_date_year  \\\n",
       "0   0          0.000000        0 -0.073279            0.329754   \n",
       "1   1          0.016667        1 -0.077293           -1.870661   \n",
       "2   2          0.000000        0 -0.071868            0.329754   \n",
       "3   3          1.533333        0 -0.066551           -1.870661   \n",
       "4   4         22.333333        0 -0.072085            0.329754   \n",
       "\n",
       "   purchase_date_month  duration  duration_to_release  total_reviews  \\\n",
       "0             0.081704 -0.340029             0.714586      -0.287531   \n",
       "1             1.236887  1.607802            -0.587260      -0.294547   \n",
       "2             0.081704 -0.340029             0.661115      -0.236874   \n",
       "3             1.236887  1.601120             1.553747       0.727123   \n",
       "4            -1.073478  0.060897             1.127073      -0.147274   \n",
       "\n",
       "   positive_reviews_percent  ...  Western  World War I  World War II  Zombies  \\\n",
       "0                 -0.270005  ...        0            0             0        0   \n",
       "1                  1.085405  ...        0            0             0        0   \n",
       "2                 -0.104721  ...        0            0             0        0   \n",
       "3                  0.907432  ...        0            0             0        0   \n",
       "4                  0.716355  ...        0            0             0        0   \n",
       "\n",
       "   eSports  Cold War  GameMaker  Lore-Rich  Modern  On-Rails Shooter  \n",
       "0        0       NaN        NaN        NaN     NaN               NaN  \n",
       "1        0       NaN        NaN        NaN     NaN               NaN  \n",
       "2        0       NaN        NaN        NaN     NaN               NaN  \n",
       "3        0       NaN        NaN        NaN     NaN               NaN  \n",
       "4        0       NaN        NaN        NaN     NaN               NaN  \n",
       "\n",
       "[5 rows x 376 columns]"
      ]
     },
     "execution_count": 5,
     "metadata": {},
     "output_type": "execute_result"
    }
   ],
   "source": [
    "df.head()"
   ]
  },
  {
   "cell_type": "code",
   "execution_count": 6,
   "metadata": {},
   "outputs": [
    {
     "data": {
      "text/plain": [
       "Index(['id', 'is_free', 'price', 'purchase_date_year', 'purchase_date_month',\n",
       "       'duration', 'duration_to_release', 'total_reviews',\n",
       "       'positive_reviews_percent', 'Action',\n",
       "       ...\n",
       "       'Violent.1', 'Visual Novel', 'Walking Simulator', 'War',\n",
       "       'Warhammer 40K', 'Western', 'World War I', 'World War II', 'Zombies',\n",
       "       'eSports'],\n",
       "      dtype='object', length=275)"
      ]
     },
     "execution_count": 6,
     "metadata": {},
     "output_type": "execute_result"
    }
   ],
   "source": [
    "col = df_train.columns & df_test.columns\n",
    "col"
   ]
  },
  {
   "cell_type": "code",
   "execution_count": 7,
   "metadata": {},
   "outputs": [],
   "source": [
    "#只保留train和test处理之后共有的列，合并成新的数据集\n",
    "train = df_train[col]\n",
    "test = df_test[col]"
   ]
  },
  {
   "cell_type": "code",
   "execution_count": 8,
   "metadata": {},
   "outputs": [
    {
     "name": "stdout",
     "output_type": "stream",
     "text": [
      "(357, 275)\n",
      "(90, 275)\n"
     ]
    }
   ],
   "source": [
    "print(train.shape)\n",
    "print(test.shape)"
   ]
  },
  {
   "cell_type": "code",
   "execution_count": 9,
   "metadata": {},
   "outputs": [
    {
     "data": {
      "text/plain": [
       "(447, 275)"
      ]
     },
     "execution_count": 9,
     "metadata": {},
     "output_type": "execute_result"
    }
   ],
   "source": [
    "Data = pd.concat([train,test])\n",
    "Data.shape"
   ]
  },
  {
   "cell_type": "code",
   "execution_count": 10,
   "metadata": {},
   "outputs": [
    {
     "data": {
      "text/plain": [
       "(447, 274)"
      ]
     },
     "execution_count": 10,
     "metadata": {},
     "output_type": "execute_result"
    }
   ],
   "source": [
    "Data.drop([\"id\"],axis=1,inplace = True)\n",
    "Data.shape"
   ]
  },
  {
   "cell_type": "code",
   "execution_count": 11,
   "metadata": {},
   "outputs": [],
   "source": [
    "Data.to_csv(\"E:/BDT/5001/Kaggle/Data.csv\",index = False)"
   ]
  },
  {
   "cell_type": "code",
   "execution_count": null,
   "metadata": {},
   "outputs": [],
   "source": []
  }
 ],
 "metadata": {
  "kernelspec": {
   "display_name": "Python 3",
   "language": "python",
   "name": "python3"
  },
  "language_info": {
   "codemirror_mode": {
    "name": "ipython",
    "version": 3
   },
   "file_extension": ".py",
   "mimetype": "text/x-python",
   "name": "python",
   "nbconvert_exporter": "python",
   "pygments_lexer": "ipython3",
   "version": "3.7.4"
  }
 },
 "nbformat": 4,
 "nbformat_minor": 2
}
